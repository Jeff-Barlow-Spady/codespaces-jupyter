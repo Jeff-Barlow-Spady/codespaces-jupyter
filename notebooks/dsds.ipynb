{
 "cells": [
  {
   "cell_type": "code",
   "execution_count": 4,
   "metadata": {},
   "outputs": [],
   "source": [
    "import polars as pl\n",
    "import dsds.diagnosis as dia\n",
    "import dsds.prescreen as ps\n",
    "import dsds.polars_extensions as pe"
   ]
  },
  {
   "cell_type": "code",
   "execution_count": 3,
   "metadata": {},
   "outputs": [],
   "source": [
    "cimd = pl.read_csv('data/CIMD_GEOM.csv')"
   ]
  },
  {
   "cell_type": "code",
   "execution_count": 14,
   "metadata": {},
   "outputs": [],
   "source": [
    "main = pl.read_csv('data/main_table_rename.csv')"
   ]
  },
  {
   "cell_type": "code",
   "execution_count": 12,
   "metadata": {},
   "outputs": [
    {
     "name": "stderr",
     "output_type": "stream",
     "text": [
      "INFO:dsds.diagnosis:Detecting dependency for all columns in dataframe. A total of 351 comparisons will be done.\n",
      "INFO:dsds.diagnosis:The following columns are not considered because they are constants: ['Province', 'CCSNAME', 'PRUID', '_predicate', 'Boundary Type']\n"
     ]
    },
    {
     "data": {
      "text/plain": [
       "(shape: (144, 3)\n",
       " ┌───────────────────────────────────┬──────────────────────────────────┬──────────┐\n",
       " │ dependent                         ┆ depends_on                       ┆ CE       │\n",
       " │ ---                               ┆ ---                              ┆ ---      │\n",
       " │ str                               ┆ str                              ┆ f64      │\n",
       " ╞═══════════════════════════════════╪══════════════════════════════════╪══════════╡\n",
       " │ Situational vulnerability Quinti… ┆ Situational vulnerability Scores ┆ 0.002008 │\n",
       " │ Situational vulnerability Quinti… ┆ DArplat                          ┆ 0.001458 │\n",
       " │ Situational vulnerability Quinti… ┆ DArplong                         ┆ 0.002915 │\n",
       " │ Situational vulnerability Quinti… ┆ DAdguid                          ┆ 0.0      │\n",
       " │ …                                 ┆ …                                ┆ …        │\n",
       " │ DArplamx                          ┆ DAUID                            ┆ 0.0      │\n",
       " │ DArplamy                          ┆ the_geom                         ┆ 0.0      │\n",
       " │ DArplamy                          ┆ DAUID                            ┆ 0.0      │\n",
       " │ the_geom                          ┆ DAUID                            ┆ 0.0      │\n",
       " └───────────────────────────────────┴──────────────────────────────────┴──────────┘,\n",
       " <graphviz.graphs.Digraph at 0x7f72910ccca0>)"
      ]
     },
     "execution_count": 12,
     "metadata": {},
     "output_type": "execute_result"
    }
   ],
   "source": [
    "dia.dependency_detection(cimd)"
   ]
  },
  {
   "cell_type": "code",
   "execution_count": 21,
   "metadata": {},
   "outputs": [
    {
     "data": {
      "text/plain": [
       "'numeric|string'"
      ]
     },
     "execution_count": 21,
     "metadata": {},
     "output_type": "execute_result"
    }
   ],
   "source": [
    "\n",
    "ps.check_columns_types(main)"
   ]
  },
  {
   "cell_type": "code",
   "execution_count": 13,
   "metadata": {},
   "outputs": [
    {
     "ename": "ColumnNotFoundError",
     "evalue": "unable to find column \"CE\"; valid columns: [\"DAdguid\", \"PRCDDA\", \"Province\", \"Dissemination area (DA) Population\", \"Situational vulnerability Quintiles\", \"Situational vulnerability Scores\", \"Ethno-cultural composition Quintiles\", \"Ethno-cultural composition Scores\", \"Residential instability Quintiles\", \"Residential instability Scores\", \"Economic dependency Quintiles\", \"Economic dependency Scores\", \"DArplat\", \"DArplong\", \"DApop_2021\", \"DAtdwell_2021\", \"DAurdwell_2021\", \"DArplamx\", \"DArplamy\", \"CTcode\", \"the_geom\", \"CCSNAME\", \"LANDAREA\", \"PRUID\", \"DAUID\", \"_predicate\", \"Boundary Type\"]\n\nError originated just after this operation:\nDF [\"DAdguid\", \"PRCDDA\", \"Province\", \"Dissemination area (DA) Population\"]; PROJECT */27 COLUMNS; SELECTION: \"None\"",
     "output_type": "error",
     "traceback": [
      "\u001b[0;31m---------------------------------------------------------------------------\u001b[0m",
      "\u001b[0;31mColumnNotFoundError\u001b[0m                       Traceback (most recent call last)",
      "\u001b[1;32mUntitled-1.ipynb Cell 4\u001b[0m line \u001b[0;36m1\n\u001b[0;32m----> <a href='vscode-notebook-cell:Untitled-1.ipynb?jupyter-notebook#W2sdW50aXRsZWQ%3D?line=0'>1</a>\u001b[0m dia\u001b[39m.\u001b[39;49m_plot_from_dependency_table(cimd, threshold\u001b[39m=\u001b[39;49m \u001b[39m.002\u001b[39;49m)\n",
      "File \u001b[0;32m~/.python/current/lib/python3.10/site-packages/dsds/diagnosis.py:52\u001b[0m, in \u001b[0;36m_plot_from_dependency_table\u001b[0;34m(df, threshold)\u001b[0m\n\u001b[1;32m     46\u001b[0m \u001b[39mdef\u001b[39;00m \u001b[39m_plot_from_dependency_table\u001b[39m(\n\u001b[1;32m     47\u001b[0m     df:pl\u001b[39m.\u001b[39mDataFrame\n\u001b[1;32m     48\u001b[0m     , threshold: \u001b[39mfloat\u001b[39m \n\u001b[1;32m     49\u001b[0m ) \u001b[39m-\u001b[39m\u001b[39m>\u001b[39m graphviz\u001b[39m.\u001b[39mDigraph:\n\u001b[1;32m     50\u001b[0m     \n\u001b[1;32m     51\u001b[0m     \u001b[39m# Filter\u001b[39;00m\n\u001b[0;32m---> 52\u001b[0m     out \u001b[39m=\u001b[39m df\u001b[39m.\u001b[39;49mfilter(pl\u001b[39m.\u001b[39;49mcol(\u001b[39m\"\u001b[39;49m\u001b[39mCE\u001b[39;49m\u001b[39m\"\u001b[39;49m) \u001b[39m<\u001b[39;49m threshold)\u001b[39m.\u001b[39mselect(\n\u001b[1;32m     53\u001b[0m         pl\u001b[39m.\u001b[39mcol(\u001b[39m'\u001b[39m\u001b[39mdependent\u001b[39m\u001b[39m'\u001b[39m)\u001b[39m.\u001b[39malias(\u001b[39m\"\u001b[39m\u001b[39mchild\u001b[39m\u001b[39m\"\u001b[39m), \u001b[39m# c for child\u001b[39;00m\n\u001b[1;32m     54\u001b[0m         pl\u001b[39m.\u001b[39mcol(\u001b[39m'\u001b[39m\u001b[39mdepends_on\u001b[39m\u001b[39m'\u001b[39m)\u001b[39m.\u001b[39malias(\u001b[39m\"\u001b[39m\u001b[39mparent\u001b[39m\u001b[39m\"\u001b[39m) \u001b[39m# p for parent\u001b[39;00m\n\u001b[1;32m     55\u001b[0m     )\n\u001b[1;32m     56\u001b[0m     cp \u001b[39m=\u001b[39m out\u001b[39m.\u001b[39mgroup_by(\u001b[39m\"\u001b[39m\u001b[39mchild\u001b[39m\u001b[39m\"\u001b[39m)\u001b[39m.\u001b[39magg(pl\u001b[39m.\u001b[39mcol(\u001b[39m\"\u001b[39m\u001b[39mparent\u001b[39m\u001b[39m\"\u001b[39m))\n\u001b[1;32m     57\u001b[0m     pc \u001b[39m=\u001b[39m out\u001b[39m.\u001b[39mgroup_by(\u001b[39m\"\u001b[39m\u001b[39mparent\u001b[39m\u001b[39m\"\u001b[39m)\u001b[39m.\u001b[39magg(pl\u001b[39m.\u001b[39mcol(\u001b[39m\"\u001b[39m\u001b[39mchild\u001b[39m\u001b[39m\"\u001b[39m))\n",
      "File \u001b[0;32m~/.python/current/lib/python3.10/site-packages/polars/dataframe/frame.py:4028\u001b[0m, in \u001b[0;36mDataFrame.filter\u001b[0;34m(self, *predicates, **constraints)\u001b[0m\n\u001b[1;32m   3931\u001b[0m \u001b[39mdef\u001b[39;00m \u001b[39mfilter\u001b[39m(\n\u001b[1;32m   3932\u001b[0m     \u001b[39mself\u001b[39m,\n\u001b[1;32m   3933\u001b[0m     \u001b[39m*\u001b[39mpredicates: (\n\u001b[0;32m   (...)\u001b[0m\n\u001b[1;32m   3940\u001b[0m     \u001b[39m*\u001b[39m\u001b[39m*\u001b[39mconstraints: Any,\n\u001b[1;32m   3941\u001b[0m ) \u001b[39m-\u001b[39m\u001b[39m>\u001b[39m DataFrame:\n\u001b[1;32m   3942\u001b[0m \u001b[39m    \u001b[39m\u001b[39m\"\"\"\u001b[39;00m\n\u001b[1;32m   3943\u001b[0m \u001b[39m    Filter the rows in the DataFrame based on a predicate expression.\u001b[39;00m\n\u001b[1;32m   3944\u001b[0m \n\u001b[0;32m   (...)\u001b[0m\n\u001b[1;32m   4026\u001b[0m \n\u001b[1;32m   4027\u001b[0m \u001b[39m    \"\"\"\u001b[39;00m\n\u001b[0;32m-> 4028\u001b[0m     \u001b[39mreturn\u001b[39;00m \u001b[39mself\u001b[39;49m\u001b[39m.\u001b[39;49mlazy()\u001b[39m.\u001b[39;49mfilter(\u001b[39m*\u001b[39;49mpredicates, \u001b[39m*\u001b[39;49m\u001b[39m*\u001b[39;49mconstraints)\u001b[39m.\u001b[39;49mcollect(_eager\u001b[39m=\u001b[39;49m\u001b[39mTrue\u001b[39;49;00m)\n",
      "File \u001b[0;32m~/.python/current/lib/python3.10/site-packages/polars/utils/deprecation.py:100\u001b[0m, in \u001b[0;36mdeprecate_renamed_parameter.<locals>.decorate.<locals>.wrapper\u001b[0;34m(*args, **kwargs)\u001b[0m\n\u001b[1;32m     95\u001b[0m \u001b[39m@wraps\u001b[39m(function)\n\u001b[1;32m     96\u001b[0m \u001b[39mdef\u001b[39;00m \u001b[39mwrapper\u001b[39m(\u001b[39m*\u001b[39margs: P\u001b[39m.\u001b[39margs, \u001b[39m*\u001b[39m\u001b[39m*\u001b[39mkwargs: P\u001b[39m.\u001b[39mkwargs) \u001b[39m-\u001b[39m\u001b[39m>\u001b[39m T:\n\u001b[1;32m     97\u001b[0m     _rename_keyword_argument(\n\u001b[1;32m     98\u001b[0m         old_name, new_name, kwargs, function\u001b[39m.\u001b[39m\u001b[39m__name__\u001b[39m, version\n\u001b[1;32m     99\u001b[0m     )\n\u001b[0;32m--> 100\u001b[0m     \u001b[39mreturn\u001b[39;00m function(\u001b[39m*\u001b[39;49margs, \u001b[39m*\u001b[39;49m\u001b[39m*\u001b[39;49mkwargs)\n",
      "File \u001b[0;32m~/.python/current/lib/python3.10/site-packages/polars/lazyframe/frame.py:1788\u001b[0m, in \u001b[0;36mLazyFrame.collect\u001b[0;34m(self, type_coercion, predicate_pushdown, projection_pushdown, simplify_expression, slice_pushdown, comm_subplan_elim, comm_subexpr_elim, no_optimization, streaming, _eager)\u001b[0m\n\u001b[1;32m   1775\u001b[0m     comm_subplan_elim \u001b[39m=\u001b[39m \u001b[39mFalse\u001b[39;00m\n\u001b[1;32m   1777\u001b[0m ldf \u001b[39m=\u001b[39m \u001b[39mself\u001b[39m\u001b[39m.\u001b[39m_ldf\u001b[39m.\u001b[39moptimization_toggle(\n\u001b[1;32m   1778\u001b[0m     type_coercion,\n\u001b[1;32m   1779\u001b[0m     predicate_pushdown,\n\u001b[0;32m   (...)\u001b[0m\n\u001b[1;32m   1786\u001b[0m     _eager,\n\u001b[1;32m   1787\u001b[0m )\n\u001b[0;32m-> 1788\u001b[0m \u001b[39mreturn\u001b[39;00m wrap_df(ldf\u001b[39m.\u001b[39;49mcollect())\n",
      "\u001b[0;31mColumnNotFoundError\u001b[0m: unable to find column \"CE\"; valid columns: [\"DAdguid\", \"PRCDDA\", \"Province\", \"Dissemination area (DA) Population\", \"Situational vulnerability Quintiles\", \"Situational vulnerability Scores\", \"Ethno-cultural composition Quintiles\", \"Ethno-cultural composition Scores\", \"Residential instability Quintiles\", \"Residential instability Scores\", \"Economic dependency Quintiles\", \"Economic dependency Scores\", \"DArplat\", \"DArplong\", \"DApop_2021\", \"DAtdwell_2021\", \"DAurdwell_2021\", \"DArplamx\", \"DArplamy\", \"CTcode\", \"the_geom\", \"CCSNAME\", \"LANDAREA\", \"PRUID\", \"DAUID\", \"_predicate\", \"Boundary Type\"]\n\nError originated just after this operation:\nDF [\"DAdguid\", \"PRCDDA\", \"Province\", \"Dissemination area (DA) Population\"]; PROJECT */27 COLUMNS; SELECTION: \"None\""
     ]
    }
   ],
   "source": [
    "dia._plot_from_dependency_table(cimd, threshold= .002)"
   ]
  },
  {
   "cell_type": "code",
   "execution_count": null,
   "metadata": {},
   "outputs": [],
   "source": []
  }
 ],
 "metadata": {
  "kernelspec": {
   "display_name": "Python 3",
   "language": "python",
   "name": "python3"
  },
  "language_info": {
   "codemirror_mode": {
    "name": "ipython",
    "version": 3
   },
   "file_extension": ".py",
   "mimetype": "text/x-python",
   "name": "python",
   "nbconvert_exporter": "python",
   "pygments_lexer": "ipython3",
   "version": "3.10.8"
  }
 },
 "nbformat": 4,
 "nbformat_minor": 2
}
